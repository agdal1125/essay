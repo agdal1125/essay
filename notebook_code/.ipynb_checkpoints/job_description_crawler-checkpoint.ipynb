{
 "cells": [
  {
   "cell_type": "code",
   "execution_count": 52,
   "metadata": {},
   "outputs": [],
   "source": [
    "from selenium import webdriver\n",
    "import time\n",
    "import pandas as pd"
   ]
  },
  {
   "cell_type": "markdown",
   "metadata": {},
   "source": [
    "#### 원티드 채용공고 데이터 추출"
   ]
  },
  {
   "cell_type": "code",
   "execution_count": 25,
   "metadata": {},
   "outputs": [],
   "source": [
    "url = \"https://www.wanted.co.kr/wdlist/507/656?country=kr&job_sort=job.latest_order&years=-1&locations=all\"\n",
    "driver = webdriver.Chrome(\"/Users/nowgeun/Desktop/chromedriver\")\n",
    "driver.get(url)"
   ]
  },
  {
   "cell_type": "code",
   "execution_count": 26,
   "metadata": {},
   "outputs": [],
   "source": [
    "# Scroll to the bottom\n",
    "SCROLL_PAUSE_TIME = 2.5\n",
    "\n",
    "# Get scroll height\n",
    "last_height = driver.execute_script(\"return document.body.scrollHeight\")\n",
    "\n",
    "while True:\n",
    "    # Scroll down to bottom\n",
    "    driver.execute_script(\"window.scrollTo(0, document.body.scrollHeight);\")\n",
    "\n",
    "    # Wait to load page\n",
    "    time.sleep(SCROLL_PAUSE_TIME)\n",
    "\n",
    "    # Calculate new scroll height and compare with last scroll height\n",
    "    new_height = driver.execute_script(\"return document.body.scrollHeight\")\n",
    "    if new_height == last_height:\n",
    "        break\n",
    "    last_height = new_height"
   ]
  },
  {
   "cell_type": "code",
   "execution_count": 40,
   "metadata": {},
   "outputs": [],
   "source": [
    "# Create empty dic & list to save data\n",
    "current_jobs = {}\n",
    "title = []\n",
    "company = []\n",
    "link = []"
   ]
  },
  {
   "cell_type": "code",
   "execution_count": 50,
   "metadata": {},
   "outputs": [
    {
     "name": "stdout",
     "output_type": "stream",
     "text": [
      "데이터 추출 시간: Sun Jul 18 14:46:00 2021\n"
     ]
    }
   ],
   "source": [
    "print(\"데이터 추출 시간: {}\".format(time.ctime()))\n",
    "\n",
    "# Locate job element cards \n",
    "\n",
    "joblist_element = driver.find_element_by_css_selector(\"#__next > div > div._1yHloYOs_bDD0E-s121Oaa > div._2y4sIVmvSrf6Iy63okz9Qh > div > ul\")\n",
    "job_description_elements = joblist_element.find_elements_by_tag_name(\"li\")\n",
    "\n",
    "for job_description in job_description_elements:\n",
    "    title.append(job_description.find_element_by_tag_name(\"a\").get_attribute(\"data-position-name\"))\n",
    "    company.append(job_description.find_element_by_tag_name(\"a\").get_attribute(\"data-company-name\"))\n",
    "    link.append(job_description.find_element_by_tag_name(\"a\").get_attribute(\"href\"))\n",
    "\n",
    "current_jobs[\"title\"] = title\n",
    "current_jobs[\"company\"] = company\n",
    "current_jobs[\"link\"] = link"
   ]
  },
  {
   "cell_type": "code",
   "execution_count": 54,
   "metadata": {
    "scrolled": false
   },
   "outputs": [
    {
     "data": {
      "text/html": [
       "<div>\n",
       "<style scoped>\n",
       "    .dataframe tbody tr th:only-of-type {\n",
       "        vertical-align: middle;\n",
       "    }\n",
       "\n",
       "    .dataframe tbody tr th {\n",
       "        vertical-align: top;\n",
       "    }\n",
       "\n",
       "    .dataframe thead th {\n",
       "        text-align: right;\n",
       "    }\n",
       "</style>\n",
       "<table border=\"1\" class=\"dataframe\">\n",
       "  <thead>\n",
       "    <tr style=\"text-align: right;\">\n",
       "      <th></th>\n",
       "      <th>title</th>\n",
       "      <th>company</th>\n",
       "      <th>link</th>\n",
       "    </tr>\n",
       "  </thead>\n",
       "  <tbody>\n",
       "    <tr>\n",
       "      <th>0</th>\n",
       "      <td>[쿠팡페이] Principal, Business Analyst (Fintech BA)</td>\n",
       "      <td>쿠팡</td>\n",
       "      <td>https://www.wanted.co.kr/wd/65454</td>\n",
       "    </tr>\n",
       "    <tr>\n",
       "      <th>1</th>\n",
       "      <td>런드리고 데이터 분석가</td>\n",
       "      <td>의식주컴퍼니</td>\n",
       "      <td>https://www.wanted.co.kr/wd/65726</td>\n",
       "    </tr>\n",
       "    <tr>\n",
       "      <th>2</th>\n",
       "      <td>Head of Growth</td>\n",
       "      <td>프로젝트바닐라</td>\n",
       "      <td>https://www.wanted.co.kr/wd/69930</td>\n",
       "    </tr>\n",
       "    <tr>\n",
       "      <th>3</th>\n",
       "      <td>전략기획 전문가</td>\n",
       "      <td>해줌</td>\n",
       "      <td>https://www.wanted.co.kr/wd/49216</td>\n",
       "    </tr>\n",
       "    <tr>\n",
       "      <th>4</th>\n",
       "      <td>[우아한청년들] 운행 데이터 분석 및 서비스 개선 담당자(3년 이상)</td>\n",
       "      <td>우아한형제들(배달의민족)</td>\n",
       "      <td>https://www.wanted.co.kr/wd/60917</td>\n",
       "    </tr>\n",
       "  </tbody>\n",
       "</table>\n",
       "</div>"
      ],
      "text/plain": [
       "                                             title        company  \\\n",
       "0  [쿠팡페이] Principal, Business Analyst (Fintech BA)             쿠팡   \n",
       "1                                     런드리고 데이터 분석가         의식주컴퍼니   \n",
       "2                                   Head of Growth        프로젝트바닐라   \n",
       "3                                         전략기획 전문가             해줌   \n",
       "4           [우아한청년들] 운행 데이터 분석 및 서비스 개선 담당자(3년 이상)  우아한형제들(배달의민족)   \n",
       "\n",
       "                                link  \n",
       "0  https://www.wanted.co.kr/wd/65454  \n",
       "1  https://www.wanted.co.kr/wd/65726  \n",
       "2  https://www.wanted.co.kr/wd/69930  \n",
       "3  https://www.wanted.co.kr/wd/49216  \n",
       "4  https://www.wanted.co.kr/wd/60917  "
      ]
     },
     "execution_count": 54,
     "metadata": {},
     "output_type": "execute_result"
    }
   ],
   "source": [
    "df = pd.DataFrame(current_jobs)\n",
    "df.head()"
   ]
  },
  {
   "cell_type": "code",
   "execution_count": 83,
   "metadata": {},
   "outputs": [],
   "source": [
    "def wanted_job_descrip_parser(link):\n",
    "    driver.get(link)\n",
    "    time.sleep(3)\n",
    "    job_info = driver.find_elements_by_tag_name(\"h6\")[1:-1]\n",
    "    info_list = []\n",
    "    for info in job_info:\n",
    "        info_list.append(info.find_element_by_xpath(\"./following-sibling::p\").text.strip())\n",
    "    return info_list"
   ]
  },
  {
   "cell_type": "code",
   "execution_count": 84,
   "metadata": {
    "scrolled": false
   },
   "outputs": [],
   "source": [
    "task = []\n",
    "qualification = []\n",
    "preferred = []\n",
    "for job_link in link:\n",
    "    details = wanted_job_descrip_parser(job_link)\n",
    "    task.append(details[0])\n",
    "    qualification.append(details[1])\n",
    "    preferred.append(details[2])"
   ]
  },
  {
   "cell_type": "code",
   "execution_count": 85,
   "metadata": {
    "scrolled": true
   },
   "outputs": [],
   "source": [
    "df[\"task\"] = task\n",
    "df[\"qualification\"] = qualification\n",
    "df[\"preferred\"] = preferred"
   ]
  },
  {
   "cell_type": "code",
   "execution_count": 88,
   "metadata": {},
   "outputs": [],
   "source": [
    "df.to_csv(\"data_analyst_wanted_job_description.csv\")"
   ]
  }
 ],
 "metadata": {
  "kernelspec": {
   "display_name": "Python 3 (ipykernel)",
   "language": "python",
   "name": "python3"
  },
  "language_info": {
   "codemirror_mode": {
    "name": "ipython",
    "version": 3
   },
   "file_extension": ".py",
   "mimetype": "text/x-python",
   "name": "python",
   "nbconvert_exporter": "python",
   "pygments_lexer": "ipython3",
   "version": "3.9.6"
  }
 },
 "nbformat": 4,
 "nbformat_minor": 4
}
